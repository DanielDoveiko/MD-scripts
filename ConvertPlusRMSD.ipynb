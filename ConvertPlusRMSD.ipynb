{
 "cells": [
  {
   "cell_type": "code",
   "execution_count": 1,
   "id": "37b26b1a-f910-4058-b25e-671f94ed062a",
   "metadata": {},
   "outputs": [
    {
     "name": "stdout",
     "output_type": "stream",
     "text": [
      "RMSD between the original and new coordinates: 46.433 Å\n",
      "Updated PDB file has been written to C:\\Users\\skb18157\\Downloads\\rotated_updated.pdb\n"
     ]
    }
   ],
   "source": [
    "import os\n",
    "import numpy as np\n",
    "\n",
    "# Define file paths\n",
    "pdb_file_path = r'C:\\Users\\skb18157\\Downloads\\rotated.pdb'\n",
    "xyz_file_path = r'C:\\Users\\skb18157\\Downloads\\Dimer.xyz'\n",
    "output_pdb_file_path = r'C:\\Users\\skb18157\\Downloads\\rotated_updated.pdb'\n",
    "\n",
    "# Function to calculate RMSD\n",
    "def calculate_rmsd(coords1, coords2):\n",
    "    diff = np.array(coords1) - np.array(coords2)\n",
    "    return np.sqrt(np.mean(np.sum(diff**2, axis=1)))\n",
    "\n",
    "# Read the PDB file\n",
    "with open(pdb_file_path, 'r') as pdb_file:\n",
    "    pdb_lines = pdb_file.readlines()\n",
    "\n",
    "# Read the XYZ file and extract coordinates (skip the first two lines)\n",
    "with open(xyz_file_path, 'r') as xyz_file:\n",
    "    xyz_lines = xyz_file.readlines()[2:]\n",
    "\n",
    "# Ensure the number of atoms matches\n",
    "num_atoms_pdb = sum(1 for line in pdb_lines if line.startswith(\"ATOM\"))\n",
    "num_atoms_xyz = len(xyz_lines)\n",
    "\n",
    "if num_atoms_pdb != num_atoms_xyz:\n",
    "    raise ValueError(\"The number of atoms in the PDB file does not match the number of atoms in the XYZ file.\")\n",
    "\n",
    "# Store original and new coordinates for RMSD calculation\n",
    "original_coords_list = []\n",
    "new_coords_list = []\n",
    "\n",
    "# Replace coordinates in the PDB file\n",
    "updated_pdb_lines = []\n",
    "xyz_index = 0\n",
    "\n",
    "for line in pdb_lines:\n",
    "    if line.startswith(\"ATOM\"):\n",
    "        # Extract the original coordinates\n",
    "        original_coords = [float(line[30:38]), float(line[38:46]), float(line[46:54])]\n",
    "        original_coords_list.append(original_coords)\n",
    "\n",
    "        # Extract new coordinates from XYZ file\n",
    "        new_coords = list(map(float, xyz_lines[xyz_index].split()[1:4]))\n",
    "        new_coords_list.append(new_coords)\n",
    "\n",
    "        # Format new coordinates with proper spacing\n",
    "        new_coords_formatted = f\"{new_coords[0]:8.3f}{new_coords[1]:8.3f}{new_coords[2]:8.3f}\"\n",
    "        \n",
    "        # Replace original coordinates with new coordinates\n",
    "        updated_line = line[:30] + new_coords_formatted + line[54:]\n",
    "        updated_pdb_lines.append(updated_line)\n",
    "        \n",
    "        xyz_index += 1\n",
    "    else:\n",
    "        updated_pdb_lines.append(line)\n",
    "\n",
    "# Calculate RMSD\n",
    "rmsd_value = calculate_rmsd(original_coords_list, new_coords_list)\n",
    "print(f\"RMSD between the original and new coordinates: {rmsd_value:.3f} Å\")\n",
    "\n",
    "# Write the updated PDB file\n",
    "with open(output_pdb_file_path, 'w') as output_pdb_file:\n",
    "    output_pdb_file.writelines(updated_pdb_lines)\n",
    "\n",
    "print(f\"Updated PDB file has been written to {output_pdb_file_path}\")\n"
   ]
  },
  {
   "cell_type": "code",
   "execution_count": null,
   "id": "cdbd6e43-35b7-4f58-a028-6102b659a0c5",
   "metadata": {},
   "outputs": [],
   "source": []
  }
 ],
 "metadata": {
  "kernelspec": {
   "display_name": "Python 3 (ipykernel)",
   "language": "python",
   "name": "python3"
  },
  "language_info": {
   "codemirror_mode": {
    "name": "ipython",
    "version": 3
   },
   "file_extension": ".py",
   "mimetype": "text/x-python",
   "name": "python",
   "nbconvert_exporter": "python",
   "pygments_lexer": "ipython3",
   "version": "3.12.4"
  }
 },
 "nbformat": 4,
 "nbformat_minor": 5
}
